{
 "cells": [
  {
   "cell_type": "markdown",
   "metadata": {},
   "source": [
    "# modifier un attribut"
   ]
  },
  {
   "cell_type": "code",
   "execution_count": 9,
   "metadata": {},
   "outputs": [
    {
     "name": "stdout",
     "output_type": "stream",
     "text": [
      "14.99\n"
     ]
    }
   ],
   "source": [
    "class Livre:\n",
    "    prix = 9.99\n",
    "\n",
    "    def __init__(self, prix):\n",
    "        self.prix = prix\n",
    "\n",
    "    def change_price(self, prix):\n",
    "        self.prix = prix\n",
    "        return prix\n",
    "harry_potter = Livre(19.99)\n",
    "#harry_potter.change_price(prix=14.99)\n",
    "print(harry_potter.change_price(14.99))"
   ]
  },
  {
   "cell_type": "markdown",
   "metadata": {},
   "source": [
    "# class book"
   ]
  },
  {
   "cell_type": "code",
   "execution_count": null,
   "metadata": {},
   "outputs": [],
   "source": [
    "class Book:\n",
    "    def __init__(self, name, page_number, price):\n",
    "        self.name = name\n",
    "        self.page_number = page_number\n",
    "        self.price = price\n",
    "        \n",
    "livre_HP = Book(\"Harry Potter\", 300, 10.99)\n",
    "livre_LOTR = Book(\"Seigneur des anneaux\", 400, 13.99)\n"
   ]
  },
  {
   "cell_type": "markdown",
   "metadata": {},
   "source": [
    "# Creating a static method"
   ]
  },
  {
   "cell_type": "code",
   "execution_count": 16,
   "metadata": {},
   "outputs": [
    {
     "name": "stdout",
     "output_type": "stream",
     "text": [
      "Happy birthday,\n",
      "Happy birthday,\n",
      "Happy birthday Paul,\n",
      "Happy birthday.\n"
     ]
    }
   ],
   "source": [
    "class Song:\n",
    "    lyrics = \"\"\"Happy birthday,\n",
    "Happy birthday,\n",
    "Happy birthday {name},\n",
    "Happy birthday.\"\"\"\n",
    "\n",
    "    @staticmethod\n",
    "    def sing_for(name):\n",
    "        return Song.lyrics.format(name=name)\n",
    "\n",
    "print(Song.sing_for(name=\"Paul\"))"
   ]
  },
  {
   "cell_type": "markdown",
   "metadata": {},
   "source": [
    "# Bank class"
   ]
  },
  {
   "cell_type": "code",
   "execution_count": 17,
   "metadata": {},
   "outputs": [],
   "source": [
    "class Bank :\n",
    "    def __init__(self, name):\n",
    "        self.name = name\n",
    "        self.dictionnary_account = {}\n",
    "        \n",
    "    def add_account(self, account_number, initial_balance):\n",
    "        self.dictionnary_account[account_number] = initial_balance\n",
    "        \n",
    "    def deposit(self, account_number, amount):\n",
    "        if account_number in self.dictionnary_account:\n",
    "            self.dictionnary_account[account_number] += amount\n",
    "            \n",
    "    def withdraw(self, account_number, amount):\n",
    "        if self.dictionnary_account[account_number] >= amount:\n",
    "             self.dictionnary_account[account_number]-= amount\n",
    "        else :\n",
    "             print(\"You don't have enough money! \")\n",
    "    \n",
    "    def consult_balance(self,account_number):\n",
    "        print(f\"your account balance is  {self.dictionnary_account[account_number]}\")\n",
    "            \n",
    "my_bank = Bank(\"BNP Paribas\")\n",
    "\n",
    "# Ajoutons un compte avec un solde de 1000 euros\n",
    "my_bank.add_account(1, 1000)\n",
    "print(f\"{consult_balance(1)}\")\n",
    "# Faisons un dépôt de 500 euros sur ce compte\n",
    "my_bank.deposit(1, 500)\n",
    "\n",
    "# Faisons un retrait de 300 euros sur ce compte\n",
    "my_bank.withdraw(1, 300)"
   ]
  }
 ],
 "metadata": {
  "kernelspec": {
   "display_name": "Python 3",
   "language": "python",
   "name": "python3"
  },
  "language_info": {
   "codemirror_mode": {
    "name": "ipython",
    "version": 3
   },
   "file_extension": ".py",
   "mimetype": "text/x-python",
   "name": "python",
   "nbconvert_exporter": "python",
   "pygments_lexer": "ipython3",
   "version": "3.11.4"
  }
 },
 "nbformat": 4,
 "nbformat_minor": 2
}
